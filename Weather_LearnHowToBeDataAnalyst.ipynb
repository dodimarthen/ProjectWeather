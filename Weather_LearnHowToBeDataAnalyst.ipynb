{
  "nbformat": 4,
  "nbformat_minor": 0,
  "metadata": {
    "colab": {
      "name": "Weather_LearnHowToBeDataAnalyst.ipynb",
      "provenance": [],
      "collapsed_sections": [],
      "authorship_tag": "ABX9TyNd84iIQCrMn++e3JBHYwFF",
      "include_colab_link": true
    },
    "kernelspec": {
      "name": "python3",
      "display_name": "Python 3"
    },
    "language_info": {
      "name": "python"
    }
  },
  "cells": [
    {
      "cell_type": "markdown",
      "metadata": {
        "id": "view-in-github",
        "colab_type": "text"
      },
      "source": [
        "<a href=\"https://colab.research.google.com/github/dodimarthen/ProjectWeather/blob/main/Weather_LearnHowToBeDataAnalyst.ipynb\" target=\"_parent\"><img src=\"https://colab.research.google.com/assets/colab-badge.svg\" alt=\"Open In Colab\"/></a>"
      ]
    },
    {
      "cell_type": "code",
      "metadata": {
        "colab": {
          "base_uri": "https://localhost:8080/"
        },
        "id": "Yyel6FhQCv7L",
        "outputId": "9750a059-49eb-467e-b13b-1a04257694be"
      },
      "source": [
        "from google.colab import drive\n",
        "drive.mount ('/content/drive')"
      ],
      "execution_count": 4,
      "outputs": [
        {
          "output_type": "stream",
          "name": "stdout",
          "text": [
            "Mounted at /content/drive\n"
          ]
        }
      ]
    },
    {
      "cell_type": "code",
      "metadata": {
        "colab": {
          "base_uri": "https://localhost:8080/",
          "height": 206
        },
        "id": "jSIYPZrOEMOS",
        "outputId": "5390fd6b-0a3e-4a1f-e86b-6bffae65db0e"
      },
      "source": [
        "import pandas as pd\n",
        "\n",
        "df = pd.read_csv(\"/content/drive/My Drive/Data Analyst Learn/Weather Data.csv\")\n",
        "df.head(5)"
      ],
      "execution_count": 9,
      "outputs": [
        {
          "output_type": "execute_result",
          "data": {
            "text/html": [
              "<div>\n",
              "<style scoped>\n",
              "    .dataframe tbody tr th:only-of-type {\n",
              "        vertical-align: middle;\n",
              "    }\n",
              "\n",
              "    .dataframe tbody tr th {\n",
              "        vertical-align: top;\n",
              "    }\n",
              "\n",
              "    .dataframe thead th {\n",
              "        text-align: right;\n",
              "    }\n",
              "</style>\n",
              "<table border=\"1\" class=\"dataframe\">\n",
              "  <thead>\n",
              "    <tr style=\"text-align: right;\">\n",
              "      <th></th>\n",
              "      <th>Date/Time</th>\n",
              "      <th>Temp_C</th>\n",
              "      <th>Dew Point Temp_C</th>\n",
              "      <th>Rel Hum_%</th>\n",
              "      <th>Wind Speed_km/h</th>\n",
              "      <th>Visibility_km</th>\n",
              "      <th>Press_kPa</th>\n",
              "      <th>Weather</th>\n",
              "    </tr>\n",
              "  </thead>\n",
              "  <tbody>\n",
              "    <tr>\n",
              "      <th>0</th>\n",
              "      <td>1/1/2012 0:00</td>\n",
              "      <td>-1.8</td>\n",
              "      <td>-3.9</td>\n",
              "      <td>86</td>\n",
              "      <td>4</td>\n",
              "      <td>8.0</td>\n",
              "      <td>101.24</td>\n",
              "      <td>Fog</td>\n",
              "    </tr>\n",
              "    <tr>\n",
              "      <th>1</th>\n",
              "      <td>1/1/2012 1:00</td>\n",
              "      <td>-1.8</td>\n",
              "      <td>-3.7</td>\n",
              "      <td>87</td>\n",
              "      <td>4</td>\n",
              "      <td>8.0</td>\n",
              "      <td>101.24</td>\n",
              "      <td>Fog</td>\n",
              "    </tr>\n",
              "    <tr>\n",
              "      <th>2</th>\n",
              "      <td>1/1/2012 2:00</td>\n",
              "      <td>-1.8</td>\n",
              "      <td>-3.4</td>\n",
              "      <td>89</td>\n",
              "      <td>7</td>\n",
              "      <td>4.0</td>\n",
              "      <td>101.26</td>\n",
              "      <td>Freezing Drizzle,Fog</td>\n",
              "    </tr>\n",
              "    <tr>\n",
              "      <th>3</th>\n",
              "      <td>1/1/2012 3:00</td>\n",
              "      <td>-1.5</td>\n",
              "      <td>-3.2</td>\n",
              "      <td>88</td>\n",
              "      <td>6</td>\n",
              "      <td>4.0</td>\n",
              "      <td>101.27</td>\n",
              "      <td>Freezing Drizzle,Fog</td>\n",
              "    </tr>\n",
              "    <tr>\n",
              "      <th>4</th>\n",
              "      <td>1/1/2012 4:00</td>\n",
              "      <td>-1.5</td>\n",
              "      <td>-3.3</td>\n",
              "      <td>88</td>\n",
              "      <td>7</td>\n",
              "      <td>4.8</td>\n",
              "      <td>101.23</td>\n",
              "      <td>Fog</td>\n",
              "    </tr>\n",
              "  </tbody>\n",
              "</table>\n",
              "</div>"
            ],
            "text/plain": [
              "       Date/Time  Temp_C  ...  Press_kPa               Weather\n",
              "0  1/1/2012 0:00    -1.8  ...     101.24                   Fog\n",
              "1  1/1/2012 1:00    -1.8  ...     101.24                   Fog\n",
              "2  1/1/2012 2:00    -1.8  ...     101.26  Freezing Drizzle,Fog\n",
              "3  1/1/2012 3:00    -1.5  ...     101.27  Freezing Drizzle,Fog\n",
              "4  1/1/2012 4:00    -1.5  ...     101.23                   Fog\n",
              "\n",
              "[5 rows x 8 columns]"
            ]
          },
          "metadata": {},
          "execution_count": 9
        }
      ]
    },
    {
      "cell_type": "code",
      "metadata": {
        "colab": {
          "base_uri": "https://localhost:8080/",
          "height": 423
        },
        "id": "OxCpxKc7Ey1g",
        "outputId": "4653b81c-ddad-49b0-fa34-1cf9ef4c4f13"
      },
      "source": [
        "df"
      ],
      "execution_count": 11,
      "outputs": [
        {
          "output_type": "execute_result",
          "data": {
            "text/html": [
              "<div>\n",
              "<style scoped>\n",
              "    .dataframe tbody tr th:only-of-type {\n",
              "        vertical-align: middle;\n",
              "    }\n",
              "\n",
              "    .dataframe tbody tr th {\n",
              "        vertical-align: top;\n",
              "    }\n",
              "\n",
              "    .dataframe thead th {\n",
              "        text-align: right;\n",
              "    }\n",
              "</style>\n",
              "<table border=\"1\" class=\"dataframe\">\n",
              "  <thead>\n",
              "    <tr style=\"text-align: right;\">\n",
              "      <th></th>\n",
              "      <th>Date/Time</th>\n",
              "      <th>Temp_C</th>\n",
              "      <th>Dew Point Temp_C</th>\n",
              "      <th>Rel Hum_%</th>\n",
              "      <th>Wind Speed_km/h</th>\n",
              "      <th>Visibility_km</th>\n",
              "      <th>Press_kPa</th>\n",
              "      <th>Weather</th>\n",
              "    </tr>\n",
              "  </thead>\n",
              "  <tbody>\n",
              "    <tr>\n",
              "      <th>0</th>\n",
              "      <td>1/1/2012 0:00</td>\n",
              "      <td>-1.8</td>\n",
              "      <td>-3.9</td>\n",
              "      <td>86</td>\n",
              "      <td>4</td>\n",
              "      <td>8.0</td>\n",
              "      <td>101.24</td>\n",
              "      <td>Fog</td>\n",
              "    </tr>\n",
              "    <tr>\n",
              "      <th>1</th>\n",
              "      <td>1/1/2012 1:00</td>\n",
              "      <td>-1.8</td>\n",
              "      <td>-3.7</td>\n",
              "      <td>87</td>\n",
              "      <td>4</td>\n",
              "      <td>8.0</td>\n",
              "      <td>101.24</td>\n",
              "      <td>Fog</td>\n",
              "    </tr>\n",
              "    <tr>\n",
              "      <th>2</th>\n",
              "      <td>1/1/2012 2:00</td>\n",
              "      <td>-1.8</td>\n",
              "      <td>-3.4</td>\n",
              "      <td>89</td>\n",
              "      <td>7</td>\n",
              "      <td>4.0</td>\n",
              "      <td>101.26</td>\n",
              "      <td>Freezing Drizzle,Fog</td>\n",
              "    </tr>\n",
              "    <tr>\n",
              "      <th>3</th>\n",
              "      <td>1/1/2012 3:00</td>\n",
              "      <td>-1.5</td>\n",
              "      <td>-3.2</td>\n",
              "      <td>88</td>\n",
              "      <td>6</td>\n",
              "      <td>4.0</td>\n",
              "      <td>101.27</td>\n",
              "      <td>Freezing Drizzle,Fog</td>\n",
              "    </tr>\n",
              "    <tr>\n",
              "      <th>4</th>\n",
              "      <td>1/1/2012 4:00</td>\n",
              "      <td>-1.5</td>\n",
              "      <td>-3.3</td>\n",
              "      <td>88</td>\n",
              "      <td>7</td>\n",
              "      <td>4.8</td>\n",
              "      <td>101.23</td>\n",
              "      <td>Fog</td>\n",
              "    </tr>\n",
              "    <tr>\n",
              "      <th>...</th>\n",
              "      <td>...</td>\n",
              "      <td>...</td>\n",
              "      <td>...</td>\n",
              "      <td>...</td>\n",
              "      <td>...</td>\n",
              "      <td>...</td>\n",
              "      <td>...</td>\n",
              "      <td>...</td>\n",
              "    </tr>\n",
              "    <tr>\n",
              "      <th>8779</th>\n",
              "      <td>12/31/2012 19:00</td>\n",
              "      <td>0.1</td>\n",
              "      <td>-2.7</td>\n",
              "      <td>81</td>\n",
              "      <td>30</td>\n",
              "      <td>9.7</td>\n",
              "      <td>100.13</td>\n",
              "      <td>Snow</td>\n",
              "    </tr>\n",
              "    <tr>\n",
              "      <th>8780</th>\n",
              "      <td>12/31/2012 20:00</td>\n",
              "      <td>0.2</td>\n",
              "      <td>-2.4</td>\n",
              "      <td>83</td>\n",
              "      <td>24</td>\n",
              "      <td>9.7</td>\n",
              "      <td>100.03</td>\n",
              "      <td>Snow</td>\n",
              "    </tr>\n",
              "    <tr>\n",
              "      <th>8781</th>\n",
              "      <td>12/31/2012 21:00</td>\n",
              "      <td>-0.5</td>\n",
              "      <td>-1.5</td>\n",
              "      <td>93</td>\n",
              "      <td>28</td>\n",
              "      <td>4.8</td>\n",
              "      <td>99.95</td>\n",
              "      <td>Snow</td>\n",
              "    </tr>\n",
              "    <tr>\n",
              "      <th>8782</th>\n",
              "      <td>12/31/2012 22:00</td>\n",
              "      <td>-0.2</td>\n",
              "      <td>-1.8</td>\n",
              "      <td>89</td>\n",
              "      <td>28</td>\n",
              "      <td>9.7</td>\n",
              "      <td>99.91</td>\n",
              "      <td>Snow</td>\n",
              "    </tr>\n",
              "    <tr>\n",
              "      <th>8783</th>\n",
              "      <td>12/31/2012 23:00</td>\n",
              "      <td>0.0</td>\n",
              "      <td>-2.1</td>\n",
              "      <td>86</td>\n",
              "      <td>30</td>\n",
              "      <td>11.3</td>\n",
              "      <td>99.89</td>\n",
              "      <td>Snow</td>\n",
              "    </tr>\n",
              "  </tbody>\n",
              "</table>\n",
              "<p>8784 rows × 8 columns</p>\n",
              "</div>"
            ],
            "text/plain": [
              "             Date/Time  Temp_C  ...  Press_kPa               Weather\n",
              "0        1/1/2012 0:00    -1.8  ...     101.24                   Fog\n",
              "1        1/1/2012 1:00    -1.8  ...     101.24                   Fog\n",
              "2        1/1/2012 2:00    -1.8  ...     101.26  Freezing Drizzle,Fog\n",
              "3        1/1/2012 3:00    -1.5  ...     101.27  Freezing Drizzle,Fog\n",
              "4        1/1/2012 4:00    -1.5  ...     101.23                   Fog\n",
              "...                ...     ...  ...        ...                   ...\n",
              "8779  12/31/2012 19:00     0.1  ...     100.13                  Snow\n",
              "8780  12/31/2012 20:00     0.2  ...     100.03                  Snow\n",
              "8781  12/31/2012 21:00    -0.5  ...      99.95                  Snow\n",
              "8782  12/31/2012 22:00    -0.2  ...      99.91                  Snow\n",
              "8783  12/31/2012 23:00     0.0  ...      99.89                  Snow\n",
              "\n",
              "[8784 rows x 8 columns]"
            ]
          },
          "metadata": {},
          "execution_count": 11
        }
      ]
    },
    {
      "cell_type": "code",
      "metadata": {
        "colab": {
          "base_uri": "https://localhost:8080/",
          "height": 363
        },
        "id": "n51FHz1HFy2u",
        "outputId": "3dd6cf67-3aca-48d6-80c6-d4fcc59d21b4"
      },
      "source": [
        "df.head(10)"
      ],
      "execution_count": 12,
      "outputs": [
        {
          "output_type": "execute_result",
          "data": {
            "text/html": [
              "<div>\n",
              "<style scoped>\n",
              "    .dataframe tbody tr th:only-of-type {\n",
              "        vertical-align: middle;\n",
              "    }\n",
              "\n",
              "    .dataframe tbody tr th {\n",
              "        vertical-align: top;\n",
              "    }\n",
              "\n",
              "    .dataframe thead th {\n",
              "        text-align: right;\n",
              "    }\n",
              "</style>\n",
              "<table border=\"1\" class=\"dataframe\">\n",
              "  <thead>\n",
              "    <tr style=\"text-align: right;\">\n",
              "      <th></th>\n",
              "      <th>Date/Time</th>\n",
              "      <th>Temp_C</th>\n",
              "      <th>Dew Point Temp_C</th>\n",
              "      <th>Rel Hum_%</th>\n",
              "      <th>Wind Speed_km/h</th>\n",
              "      <th>Visibility_km</th>\n",
              "      <th>Press_kPa</th>\n",
              "      <th>Weather</th>\n",
              "    </tr>\n",
              "  </thead>\n",
              "  <tbody>\n",
              "    <tr>\n",
              "      <th>0</th>\n",
              "      <td>1/1/2012 0:00</td>\n",
              "      <td>-1.8</td>\n",
              "      <td>-3.9</td>\n",
              "      <td>86</td>\n",
              "      <td>4</td>\n",
              "      <td>8.0</td>\n",
              "      <td>101.24</td>\n",
              "      <td>Fog</td>\n",
              "    </tr>\n",
              "    <tr>\n",
              "      <th>1</th>\n",
              "      <td>1/1/2012 1:00</td>\n",
              "      <td>-1.8</td>\n",
              "      <td>-3.7</td>\n",
              "      <td>87</td>\n",
              "      <td>4</td>\n",
              "      <td>8.0</td>\n",
              "      <td>101.24</td>\n",
              "      <td>Fog</td>\n",
              "    </tr>\n",
              "    <tr>\n",
              "      <th>2</th>\n",
              "      <td>1/1/2012 2:00</td>\n",
              "      <td>-1.8</td>\n",
              "      <td>-3.4</td>\n",
              "      <td>89</td>\n",
              "      <td>7</td>\n",
              "      <td>4.0</td>\n",
              "      <td>101.26</td>\n",
              "      <td>Freezing Drizzle,Fog</td>\n",
              "    </tr>\n",
              "    <tr>\n",
              "      <th>3</th>\n",
              "      <td>1/1/2012 3:00</td>\n",
              "      <td>-1.5</td>\n",
              "      <td>-3.2</td>\n",
              "      <td>88</td>\n",
              "      <td>6</td>\n",
              "      <td>4.0</td>\n",
              "      <td>101.27</td>\n",
              "      <td>Freezing Drizzle,Fog</td>\n",
              "    </tr>\n",
              "    <tr>\n",
              "      <th>4</th>\n",
              "      <td>1/1/2012 4:00</td>\n",
              "      <td>-1.5</td>\n",
              "      <td>-3.3</td>\n",
              "      <td>88</td>\n",
              "      <td>7</td>\n",
              "      <td>4.8</td>\n",
              "      <td>101.23</td>\n",
              "      <td>Fog</td>\n",
              "    </tr>\n",
              "    <tr>\n",
              "      <th>5</th>\n",
              "      <td>1/1/2012 5:00</td>\n",
              "      <td>-1.4</td>\n",
              "      <td>-3.3</td>\n",
              "      <td>87</td>\n",
              "      <td>9</td>\n",
              "      <td>6.4</td>\n",
              "      <td>101.27</td>\n",
              "      <td>Fog</td>\n",
              "    </tr>\n",
              "    <tr>\n",
              "      <th>6</th>\n",
              "      <td>1/1/2012 6:00</td>\n",
              "      <td>-1.5</td>\n",
              "      <td>-3.1</td>\n",
              "      <td>89</td>\n",
              "      <td>7</td>\n",
              "      <td>6.4</td>\n",
              "      <td>101.29</td>\n",
              "      <td>Fog</td>\n",
              "    </tr>\n",
              "    <tr>\n",
              "      <th>7</th>\n",
              "      <td>1/1/2012 7:00</td>\n",
              "      <td>-1.4</td>\n",
              "      <td>-3.6</td>\n",
              "      <td>85</td>\n",
              "      <td>7</td>\n",
              "      <td>8.0</td>\n",
              "      <td>101.26</td>\n",
              "      <td>Fog</td>\n",
              "    </tr>\n",
              "    <tr>\n",
              "      <th>8</th>\n",
              "      <td>1/1/2012 8:00</td>\n",
              "      <td>-1.4</td>\n",
              "      <td>-3.6</td>\n",
              "      <td>85</td>\n",
              "      <td>9</td>\n",
              "      <td>8.0</td>\n",
              "      <td>101.23</td>\n",
              "      <td>Fog</td>\n",
              "    </tr>\n",
              "    <tr>\n",
              "      <th>9</th>\n",
              "      <td>1/1/2012 9:00</td>\n",
              "      <td>-1.3</td>\n",
              "      <td>-3.1</td>\n",
              "      <td>88</td>\n",
              "      <td>15</td>\n",
              "      <td>4.0</td>\n",
              "      <td>101.20</td>\n",
              "      <td>Fog</td>\n",
              "    </tr>\n",
              "  </tbody>\n",
              "</table>\n",
              "</div>"
            ],
            "text/plain": [
              "       Date/Time  Temp_C  ...  Press_kPa               Weather\n",
              "0  1/1/2012 0:00    -1.8  ...     101.24                   Fog\n",
              "1  1/1/2012 1:00    -1.8  ...     101.24                   Fog\n",
              "2  1/1/2012 2:00    -1.8  ...     101.26  Freezing Drizzle,Fog\n",
              "3  1/1/2012 3:00    -1.5  ...     101.27  Freezing Drizzle,Fog\n",
              "4  1/1/2012 4:00    -1.5  ...     101.23                   Fog\n",
              "5  1/1/2012 5:00    -1.4  ...     101.27                   Fog\n",
              "6  1/1/2012 6:00    -1.5  ...     101.29                   Fog\n",
              "7  1/1/2012 7:00    -1.4  ...     101.26                   Fog\n",
              "8  1/1/2012 8:00    -1.4  ...     101.23                   Fog\n",
              "9  1/1/2012 9:00    -1.3  ...     101.20                   Fog\n",
              "\n",
              "[10 rows x 8 columns]"
            ]
          },
          "metadata": {},
          "execution_count": 12
        }
      ]
    },
    {
      "cell_type": "code",
      "metadata": {
        "colab": {
          "base_uri": "https://localhost:8080/"
        },
        "id": "wM5y96lRHpO0",
        "outputId": "bb724e61-5025-4db5-b0f8-dd6555f738c7"
      },
      "source": [
        "df.index"
      ],
      "execution_count": 13,
      "outputs": [
        {
          "output_type": "execute_result",
          "data": {
            "text/plain": [
              "RangeIndex(start=0, stop=8784, step=1)"
            ]
          },
          "metadata": {},
          "execution_count": 13
        }
      ]
    },
    {
      "cell_type": "code",
      "metadata": {
        "colab": {
          "base_uri": "https://localhost:8080/"
        },
        "id": "0qUcVJ7RHqDU",
        "outputId": "ac203817-5bcc-4ce1-ea04-118687e0ef61"
      },
      "source": [
        "df.shape"
      ],
      "execution_count": 14,
      "outputs": [
        {
          "output_type": "execute_result",
          "data": {
            "text/plain": [
              "(8784, 8)"
            ]
          },
          "metadata": {},
          "execution_count": 14
        }
      ]
    },
    {
      "cell_type": "code",
      "metadata": {
        "colab": {
          "base_uri": "https://localhost:8080/"
        },
        "id": "sVcxTjolHvWU",
        "outputId": "46f9fc18-4816-4b2e-ccd8-dafc9bb01c1a"
      },
      "source": [
        "df.columns"
      ],
      "execution_count": 15,
      "outputs": [
        {
          "output_type": "execute_result",
          "data": {
            "text/plain": [
              "Index(['Date/Time', 'Temp_C', 'Dew Point Temp_C', 'Rel Hum_%',\n",
              "       'Wind Speed_km/h', 'Visibility_km', 'Press_kPa', 'Weather'],\n",
              "      dtype='object')"
            ]
          },
          "metadata": {},
          "execution_count": 15
        }
      ]
    },
    {
      "cell_type": "code",
      "metadata": {
        "colab": {
          "base_uri": "https://localhost:8080/"
        },
        "id": "0gTPKjCvJjj-",
        "outputId": "b0432477-445c-4227-e08f-7d0f0026de62"
      },
      "source": [
        "df.dtypes"
      ],
      "execution_count": 16,
      "outputs": [
        {
          "output_type": "execute_result",
          "data": {
            "text/plain": [
              "Date/Time            object\n",
              "Temp_C              float64\n",
              "Dew Point Temp_C    float64\n",
              "Rel Hum_%             int64\n",
              "Wind Speed_km/h       int64\n",
              "Visibility_km       float64\n",
              "Press_kPa           float64\n",
              "Weather              object\n",
              "dtype: object"
            ]
          },
          "metadata": {},
          "execution_count": 16
        }
      ]
    },
    {
      "cell_type": "code",
      "metadata": {
        "colab": {
          "base_uri": "https://localhost:8080/"
        },
        "id": "ljIh5tsqJlzk",
        "outputId": "cfd2c1c6-80ca-4aae-a513-8c3952577542"
      },
      "source": [
        "df['Weather'].unique()"
      ],
      "execution_count": 17,
      "outputs": [
        {
          "output_type": "execute_result",
          "data": {
            "text/plain": [
              "array(['Fog', 'Freezing Drizzle,Fog', 'Mostly Cloudy', 'Cloudy', 'Rain',\n",
              "       'Rain Showers', 'Mainly Clear', 'Snow Showers', 'Snow', 'Clear',\n",
              "       'Freezing Rain,Fog', 'Freezing Rain', 'Freezing Drizzle',\n",
              "       'Rain,Snow', 'Moderate Snow', 'Freezing Drizzle,Snow',\n",
              "       'Freezing Rain,Snow Grains', 'Snow,Blowing Snow', 'Freezing Fog',\n",
              "       'Haze', 'Rain,Fog', 'Drizzle,Fog', 'Drizzle',\n",
              "       'Freezing Drizzle,Haze', 'Freezing Rain,Haze', 'Snow,Haze',\n",
              "       'Snow,Fog', 'Snow,Ice Pellets', 'Rain,Haze', 'Thunderstorms,Rain',\n",
              "       'Thunderstorms,Rain Showers', 'Thunderstorms,Heavy Rain Showers',\n",
              "       'Thunderstorms,Rain Showers,Fog', 'Thunderstorms',\n",
              "       'Thunderstorms,Rain,Fog',\n",
              "       'Thunderstorms,Moderate Rain Showers,Fog', 'Rain Showers,Fog',\n",
              "       'Rain Showers,Snow Showers', 'Snow Pellets', 'Rain,Snow,Fog',\n",
              "       'Moderate Rain,Fog', 'Freezing Rain,Ice Pellets,Fog',\n",
              "       'Drizzle,Ice Pellets,Fog', 'Drizzle,Snow', 'Rain,Ice Pellets',\n",
              "       'Drizzle,Snow,Fog', 'Rain,Snow Grains', 'Rain,Snow,Ice Pellets',\n",
              "       'Snow Showers,Fog', 'Moderate Snow,Blowing Snow'], dtype=object)"
            ]
          },
          "metadata": {},
          "execution_count": 17
        }
      ]
    },
    {
      "cell_type": "code",
      "metadata": {
        "colab": {
          "base_uri": "https://localhost:8080/"
        },
        "id": "5DtEPtMCPo0Y",
        "outputId": "36a83170-ac26-49df-fd4f-f104c6c5642f"
      },
      "source": [
        "df.nunique()"
      ],
      "execution_count": 18,
      "outputs": [
        {
          "output_type": "execute_result",
          "data": {
            "text/plain": [
              "Date/Time           8784\n",
              "Temp_C               533\n",
              "Dew Point Temp_C     489\n",
              "Rel Hum_%             83\n",
              "Wind Speed_km/h       34\n",
              "Visibility_km         24\n",
              "Press_kPa            518\n",
              "Weather               50\n",
              "dtype: int64"
            ]
          },
          "metadata": {},
          "execution_count": 18
        }
      ]
    },
    {
      "cell_type": "code",
      "metadata": {
        "colab": {
          "base_uri": "https://localhost:8080/"
        },
        "id": "FnFfRRDr3EoJ",
        "outputId": "aa4d9580-d16e-4e1c-a6bc-1c21880421a7"
      },
      "source": [
        "df.count()"
      ],
      "execution_count": 19,
      "outputs": [
        {
          "output_type": "execute_result",
          "data": {
            "text/plain": [
              "Date/Time           8784\n",
              "Temp_C              8784\n",
              "Dew Point Temp_C    8784\n",
              "Rel Hum_%           8784\n",
              "Wind Speed_km/h     8784\n",
              "Visibility_km       8784\n",
              "Press_kPa           8784\n",
              "Weather             8784\n",
              "dtype: int64"
            ]
          },
          "metadata": {},
          "execution_count": 19
        }
      ]
    },
    {
      "cell_type": "code",
      "metadata": {
        "colab": {
          "base_uri": "https://localhost:8080/"
        },
        "id": "SH11aYh33JPE",
        "outputId": "9ffbe08f-531c-482c-a264-944a86759075"
      },
      "source": [
        "df.value_counts()"
      ],
      "execution_count": 20,
      "outputs": [
        {
          "output_type": "execute_result",
          "data": {
            "text/plain": [
              "Date/Time        Temp_C  Dew Point Temp_C  Rel Hum_%  Wind Speed_km/h  Visibility_km  Press_kPa  Weather     \n",
              "9/9/2012 9:00     14.8    8.8              67         17               48.3           100.65     Mainly Clear    1\n",
              "12/8/2012 6:00    2.4     0.3              86         9                25.0           101.05     Cloudy          1\n",
              "12/9/2012 11:00  -1.7    -4.8              79         17               24.1           102.35     Cloudy          1\n",
              "12/9/2012 10:00  -1.5    -4.5              80         20               24.1           102.35     Cloudy          1\n",
              "12/9/2012 0:00    1.5     0.7              94         20               9.7            101.07     Fog             1\n",
              "                                                                                                                ..\n",
              "6/1/2012 15:00    19.8    4.9              38         17               48.3           101.16     Cloudy          1\n",
              "6/1/2012 16:00    20.2    4.3              35         22               48.3           101.04     Cloudy          1\n",
              "6/1/2012 17:00    20.2    4.1              35         19               48.3           101.03     Cloudy          1\n",
              "6/1/2012 18:00    20.1    4.6              36         19               24.1           100.98     Cloudy          1\n",
              "1/1/2012 0:00    -1.8    -3.9              86         4                8.0            101.24     Fog             1\n",
              "Length: 8784, dtype: int64"
            ]
          },
          "metadata": {},
          "execution_count": 20
        }
      ]
    },
    {
      "cell_type": "code",
      "metadata": {
        "colab": {
          "base_uri": "https://localhost:8080/"
        },
        "id": "0CL9V6sl3Qf8",
        "outputId": "5d7d331a-f93a-4bea-8aaa-8b4bb3322bf3"
      },
      "source": [
        "df['Weather'].value_counts()"
      ],
      "execution_count": 23,
      "outputs": [
        {
          "output_type": "execute_result",
          "data": {
            "text/plain": [
              "Mainly Clear                               2106\n",
              "Mostly Cloudy                              2069\n",
              "Cloudy                                     1728\n",
              "Clear                                      1326\n",
              "Snow                                        390\n",
              "Rain                                        306\n",
              "Rain Showers                                188\n",
              "Fog                                         150\n",
              "Rain,Fog                                    116\n",
              "Drizzle,Fog                                  80\n",
              "Snow Showers                                 60\n",
              "Drizzle                                      41\n",
              "Snow,Fog                                     37\n",
              "Snow,Blowing Snow                            19\n",
              "Rain,Snow                                    18\n",
              "Thunderstorms,Rain Showers                   16\n",
              "Haze                                         16\n",
              "Drizzle,Snow,Fog                             15\n",
              "Freezing Rain                                14\n",
              "Freezing Drizzle,Snow                        11\n",
              "Freezing Drizzle                              7\n",
              "Freezing Drizzle,Fog                          6\n",
              "Snow,Ice Pellets                              6\n",
              "Snow,Haze                                     5\n",
              "Freezing Rain,Fog                             4\n",
              "Freezing Fog                                  4\n",
              "Snow Showers,Fog                              4\n",
              "Rain,Snow,Ice Pellets                         4\n",
              "Moderate Snow                                 4\n",
              "Rain,Haze                                     3\n",
              "Thunderstorms,Rain                            3\n",
              "Freezing Drizzle,Haze                         3\n",
              "Thunderstorms,Rain Showers,Fog                3\n",
              "Thunderstorms                                 2\n",
              "Freezing Rain,Haze                            2\n",
              "Drizzle,Snow                                  2\n",
              "Rain Showers,Snow Showers                     2\n",
              "Moderate Snow,Blowing Snow                    2\n",
              "Rain,Snow Grains                              1\n",
              "Thunderstorms,Rain,Fog                        1\n",
              "Rain,Ice Pellets                              1\n",
              "Snow Pellets                                  1\n",
              "Freezing Rain,Ice Pellets,Fog                 1\n",
              "Thunderstorms,Moderate Rain Showers,Fog       1\n",
              "Moderate Rain,Fog                             1\n",
              "Drizzle,Ice Pellets,Fog                       1\n",
              "Rain Showers,Fog                              1\n",
              "Freezing Rain,Snow Grains                     1\n",
              "Rain,Snow,Fog                                 1\n",
              "Thunderstorms,Heavy Rain Showers              1\n",
              "Name: Weather, dtype: int64"
            ]
          },
          "metadata": {},
          "execution_count": 23
        }
      ]
    },
    {
      "cell_type": "code",
      "metadata": {
        "colab": {
          "base_uri": "https://localhost:8080/"
        },
        "id": "_MqWcqaQ3Yc0",
        "outputId": "92af346c-e884-4e43-ca86-696fb3846ab5"
      },
      "source": [
        "df.info()"
      ],
      "execution_count": 24,
      "outputs": [
        {
          "output_type": "stream",
          "name": "stdout",
          "text": [
            "<class 'pandas.core.frame.DataFrame'>\n",
            "RangeIndex: 8784 entries, 0 to 8783\n",
            "Data columns (total 8 columns):\n",
            " #   Column            Non-Null Count  Dtype  \n",
            "---  ------            --------------  -----  \n",
            " 0   Date/Time         8784 non-null   object \n",
            " 1   Temp_C            8784 non-null   float64\n",
            " 2   Dew Point Temp_C  8784 non-null   float64\n",
            " 3   Rel Hum_%         8784 non-null   int64  \n",
            " 4   Wind Speed_km/h   8784 non-null   int64  \n",
            " 5   Visibility_km     8784 non-null   float64\n",
            " 6   Press_kPa         8784 non-null   float64\n",
            " 7   Weather           8784 non-null   object \n",
            "dtypes: float64(4), int64(2), object(2)\n",
            "memory usage: 549.1+ KB\n"
          ]
        }
      ]
    },
    {
      "cell_type": "markdown",
      "metadata": {
        "id": "GpNf3gLG4pPF"
      },
      "source": [
        "# **Question Number 1**"
      ]
    },
    {
      "cell_type": "code",
      "metadata": {
        "colab": {
          "base_uri": "https://localhost:8080/"
        },
        "id": "nntsb8a43jMs",
        "outputId": "064f66c0-0e77-4da5-f776-28b207b6f027"
      },
      "source": [
        "df.nunique()"
      ],
      "execution_count": 30,
      "outputs": [
        {
          "output_type": "execute_result",
          "data": {
            "text/plain": [
              "Date/Time           8784\n",
              "Temp_C               533\n",
              "Dew Point Temp_C     489\n",
              "Rel Hum_%             83\n",
              "Wind Speed_km/h       34\n",
              "Visibility_km         24\n",
              "Press_kPa            518\n",
              "Weather               50\n",
              "dtype: int64"
            ]
          },
          "metadata": {},
          "execution_count": 30
        }
      ]
    },
    {
      "cell_type": "code",
      "metadata": {
        "colab": {
          "base_uri": "https://localhost:8080/"
        },
        "id": "vgvQuJSe4Ak0",
        "outputId": "25871e90-425c-4171-818c-15fd7178bebf"
      },
      "source": [
        "df['Wind Speed_km/h'].nunique()"
      ],
      "execution_count": 28,
      "outputs": [
        {
          "output_type": "execute_result",
          "data": {
            "text/plain": [
              "34"
            ]
          },
          "metadata": {},
          "execution_count": 28
        }
      ]
    },
    {
      "cell_type": "code",
      "metadata": {
        "colab": {
          "base_uri": "https://localhost:8080/"
        },
        "id": "DCHhkdvK5Nn7",
        "outputId": "4dcf6ec7-dbba-430f-8e12-2b01b5e15dee"
      },
      "source": [
        "df['Wind Speed_km/h'].unique() #<---------- ANSWER ---------->"
      ],
      "execution_count": 29,
      "outputs": [
        {
          "output_type": "execute_result",
          "data": {
            "text/plain": [
              "array([ 4,  7,  6,  9, 15, 13, 20, 22, 19, 24, 30, 35, 39, 32, 33, 26, 44,\n",
              "       43, 48, 37, 28, 17, 11,  0, 83, 70, 57, 46, 41, 52, 50, 63, 54,  2])"
            ]
          },
          "metadata": {},
          "execution_count": 29
        }
      ]
    },
    {
      "cell_type": "markdown",
      "metadata": {
        "id": "QzldWvYo4zbq"
      },
      "source": [
        "# **Question Number 2**"
      ]
    },
    {
      "cell_type": "code",
      "metadata": {
        "colab": {
          "base_uri": "https://localhost:8080/"
        },
        "id": "MG9o4eSh4d1N",
        "outputId": "88fcb9e4-da5e-4f42-ad06-5d98eac53cf9"
      },
      "source": [
        "#Value Counts\n",
        "df.Weather.value_counts()"
      ],
      "execution_count": 31,
      "outputs": [
        {
          "output_type": "execute_result",
          "data": {
            "text/plain": [
              "Mainly Clear                               2106\n",
              "Mostly Cloudy                              2069\n",
              "Cloudy                                     1728\n",
              "Clear                                      1326\n",
              "Snow                                        390\n",
              "Rain                                        306\n",
              "Rain Showers                                188\n",
              "Fog                                         150\n",
              "Rain,Fog                                    116\n",
              "Drizzle,Fog                                  80\n",
              "Snow Showers                                 60\n",
              "Drizzle                                      41\n",
              "Snow,Fog                                     37\n",
              "Snow,Blowing Snow                            19\n",
              "Rain,Snow                                    18\n",
              "Thunderstorms,Rain Showers                   16\n",
              "Haze                                         16\n",
              "Drizzle,Snow,Fog                             15\n",
              "Freezing Rain                                14\n",
              "Freezing Drizzle,Snow                        11\n",
              "Freezing Drizzle                              7\n",
              "Freezing Drizzle,Fog                          6\n",
              "Snow,Ice Pellets                              6\n",
              "Snow,Haze                                     5\n",
              "Freezing Rain,Fog                             4\n",
              "Freezing Fog                                  4\n",
              "Snow Showers,Fog                              4\n",
              "Rain,Snow,Ice Pellets                         4\n",
              "Moderate Snow                                 4\n",
              "Rain,Haze                                     3\n",
              "Thunderstorms,Rain                            3\n",
              "Freezing Drizzle,Haze                         3\n",
              "Thunderstorms,Rain Showers,Fog                3\n",
              "Thunderstorms                                 2\n",
              "Freezing Rain,Haze                            2\n",
              "Drizzle,Snow                                  2\n",
              "Rain Showers,Snow Showers                     2\n",
              "Moderate Snow,Blowing Snow                    2\n",
              "Rain,Snow Grains                              1\n",
              "Thunderstorms,Rain,Fog                        1\n",
              "Rain,Ice Pellets                              1\n",
              "Snow Pellets                                  1\n",
              "Freezing Rain,Ice Pellets,Fog                 1\n",
              "Thunderstorms,Moderate Rain Showers,Fog       1\n",
              "Moderate Rain,Fog                             1\n",
              "Drizzle,Ice Pellets,Fog                       1\n",
              "Rain Showers,Fog                              1\n",
              "Freezing Rain,Snow Grains                     1\n",
              "Rain,Snow,Fog                                 1\n",
              "Thunderstorms,Heavy Rain Showers              1\n",
              "Name: Weather, dtype: int64"
            ]
          },
          "metadata": {},
          "execution_count": 31
        }
      ]
    },
    {
      "cell_type": "code",
      "metadata": {
        "colab": {
          "base_uri": "https://localhost:8080/",
          "height": 423
        },
        "id": "KrTw9weH5zvF",
        "outputId": "90d95773-505e-4f0b-bc95-e5cbdfbf95d9"
      },
      "source": [
        "df[df.Weather == 'Clear']"
      ],
      "execution_count": 39,
      "outputs": [
        {
          "output_type": "execute_result",
          "data": {
            "text/html": [
              "<div>\n",
              "<style scoped>\n",
              "    .dataframe tbody tr th:only-of-type {\n",
              "        vertical-align: middle;\n",
              "    }\n",
              "\n",
              "    .dataframe tbody tr th {\n",
              "        vertical-align: top;\n",
              "    }\n",
              "\n",
              "    .dataframe thead th {\n",
              "        text-align: right;\n",
              "    }\n",
              "</style>\n",
              "<table border=\"1\" class=\"dataframe\">\n",
              "  <thead>\n",
              "    <tr style=\"text-align: right;\">\n",
              "      <th></th>\n",
              "      <th>Date/Time</th>\n",
              "      <th>Temp_C</th>\n",
              "      <th>Dew Point Temp_C</th>\n",
              "      <th>Rel Hum_%</th>\n",
              "      <th>Wind Speed_km/h</th>\n",
              "      <th>Visibility_km</th>\n",
              "      <th>Press_kPa</th>\n",
              "      <th>Weather</th>\n",
              "    </tr>\n",
              "  </thead>\n",
              "  <tbody>\n",
              "    <tr>\n",
              "      <th>67</th>\n",
              "      <td>1/3/2012 19:00</td>\n",
              "      <td>-16.9</td>\n",
              "      <td>-24.8</td>\n",
              "      <td>50</td>\n",
              "      <td>24</td>\n",
              "      <td>25.0</td>\n",
              "      <td>101.74</td>\n",
              "      <td>Clear</td>\n",
              "    </tr>\n",
              "    <tr>\n",
              "      <th>114</th>\n",
              "      <td>1/5/2012 18:00</td>\n",
              "      <td>-7.1</td>\n",
              "      <td>-14.4</td>\n",
              "      <td>56</td>\n",
              "      <td>11</td>\n",
              "      <td>25.0</td>\n",
              "      <td>100.71</td>\n",
              "      <td>Clear</td>\n",
              "    </tr>\n",
              "    <tr>\n",
              "      <th>115</th>\n",
              "      <td>1/5/2012 19:00</td>\n",
              "      <td>-9.2</td>\n",
              "      <td>-15.4</td>\n",
              "      <td>61</td>\n",
              "      <td>7</td>\n",
              "      <td>25.0</td>\n",
              "      <td>100.80</td>\n",
              "      <td>Clear</td>\n",
              "    </tr>\n",
              "    <tr>\n",
              "      <th>116</th>\n",
              "      <td>1/5/2012 20:00</td>\n",
              "      <td>-9.8</td>\n",
              "      <td>-15.7</td>\n",
              "      <td>62</td>\n",
              "      <td>9</td>\n",
              "      <td>25.0</td>\n",
              "      <td>100.83</td>\n",
              "      <td>Clear</td>\n",
              "    </tr>\n",
              "    <tr>\n",
              "      <th>117</th>\n",
              "      <td>1/5/2012 21:00</td>\n",
              "      <td>-9.0</td>\n",
              "      <td>-14.8</td>\n",
              "      <td>63</td>\n",
              "      <td>13</td>\n",
              "      <td>25.0</td>\n",
              "      <td>100.83</td>\n",
              "      <td>Clear</td>\n",
              "    </tr>\n",
              "    <tr>\n",
              "      <th>...</th>\n",
              "      <td>...</td>\n",
              "      <td>...</td>\n",
              "      <td>...</td>\n",
              "      <td>...</td>\n",
              "      <td>...</td>\n",
              "      <td>...</td>\n",
              "      <td>...</td>\n",
              "      <td>...</td>\n",
              "    </tr>\n",
              "    <tr>\n",
              "      <th>8646</th>\n",
              "      <td>12/26/2012 6:00</td>\n",
              "      <td>-13.4</td>\n",
              "      <td>-14.8</td>\n",
              "      <td>89</td>\n",
              "      <td>4</td>\n",
              "      <td>25.0</td>\n",
              "      <td>102.47</td>\n",
              "      <td>Clear</td>\n",
              "    </tr>\n",
              "    <tr>\n",
              "      <th>8698</th>\n",
              "      <td>12/28/2012 10:00</td>\n",
              "      <td>-6.1</td>\n",
              "      <td>-8.6</td>\n",
              "      <td>82</td>\n",
              "      <td>19</td>\n",
              "      <td>24.1</td>\n",
              "      <td>101.27</td>\n",
              "      <td>Clear</td>\n",
              "    </tr>\n",
              "    <tr>\n",
              "      <th>8713</th>\n",
              "      <td>12/29/2012 1:00</td>\n",
              "      <td>-11.9</td>\n",
              "      <td>-13.6</td>\n",
              "      <td>87</td>\n",
              "      <td>11</td>\n",
              "      <td>25.0</td>\n",
              "      <td>101.31</td>\n",
              "      <td>Clear</td>\n",
              "    </tr>\n",
              "    <tr>\n",
              "      <th>8714</th>\n",
              "      <td>12/29/2012 2:00</td>\n",
              "      <td>-11.8</td>\n",
              "      <td>-13.1</td>\n",
              "      <td>90</td>\n",
              "      <td>13</td>\n",
              "      <td>25.0</td>\n",
              "      <td>101.33</td>\n",
              "      <td>Clear</td>\n",
              "    </tr>\n",
              "    <tr>\n",
              "      <th>8756</th>\n",
              "      <td>12/30/2012 20:00</td>\n",
              "      <td>-13.8</td>\n",
              "      <td>-16.5</td>\n",
              "      <td>80</td>\n",
              "      <td>24</td>\n",
              "      <td>25.0</td>\n",
              "      <td>101.52</td>\n",
              "      <td>Clear</td>\n",
              "    </tr>\n",
              "  </tbody>\n",
              "</table>\n",
              "<p>1326 rows × 8 columns</p>\n",
              "</div>"
            ],
            "text/plain": [
              "             Date/Time  Temp_C  ...  Press_kPa  Weather\n",
              "67      1/3/2012 19:00   -16.9  ...     101.74    Clear\n",
              "114     1/5/2012 18:00    -7.1  ...     100.71    Clear\n",
              "115     1/5/2012 19:00    -9.2  ...     100.80    Clear\n",
              "116     1/5/2012 20:00    -9.8  ...     100.83    Clear\n",
              "117     1/5/2012 21:00    -9.0  ...     100.83    Clear\n",
              "...                ...     ...  ...        ...      ...\n",
              "8646   12/26/2012 6:00   -13.4  ...     102.47    Clear\n",
              "8698  12/28/2012 10:00    -6.1  ...     101.27    Clear\n",
              "8713   12/29/2012 1:00   -11.9  ...     101.31    Clear\n",
              "8714   12/29/2012 2:00   -11.8  ...     101.33    Clear\n",
              "8756  12/30/2012 20:00   -13.8  ...     101.52    Clear\n",
              "\n",
              "[1326 rows x 8 columns]"
            ]
          },
          "metadata": {},
          "execution_count": 39
        }
      ]
    },
    {
      "cell_type": "code",
      "metadata": {
        "colab": {
          "base_uri": "https://localhost:8080/",
          "height": 423
        },
        "id": "4f8-fJCs6GeW",
        "outputId": "46f80c68-5660-4101-9590-e1c4eed36956"
      },
      "source": [
        "df.groupby('Weather').get_group('Clear')"
      ],
      "execution_count": 40,
      "outputs": [
        {
          "output_type": "execute_result",
          "data": {
            "text/html": [
              "<div>\n",
              "<style scoped>\n",
              "    .dataframe tbody tr th:only-of-type {\n",
              "        vertical-align: middle;\n",
              "    }\n",
              "\n",
              "    .dataframe tbody tr th {\n",
              "        vertical-align: top;\n",
              "    }\n",
              "\n",
              "    .dataframe thead th {\n",
              "        text-align: right;\n",
              "    }\n",
              "</style>\n",
              "<table border=\"1\" class=\"dataframe\">\n",
              "  <thead>\n",
              "    <tr style=\"text-align: right;\">\n",
              "      <th></th>\n",
              "      <th>Date/Time</th>\n",
              "      <th>Temp_C</th>\n",
              "      <th>Dew Point Temp_C</th>\n",
              "      <th>Rel Hum_%</th>\n",
              "      <th>Wind Speed_km/h</th>\n",
              "      <th>Visibility_km</th>\n",
              "      <th>Press_kPa</th>\n",
              "      <th>Weather</th>\n",
              "    </tr>\n",
              "  </thead>\n",
              "  <tbody>\n",
              "    <tr>\n",
              "      <th>67</th>\n",
              "      <td>1/3/2012 19:00</td>\n",
              "      <td>-16.9</td>\n",
              "      <td>-24.8</td>\n",
              "      <td>50</td>\n",
              "      <td>24</td>\n",
              "      <td>25.0</td>\n",
              "      <td>101.74</td>\n",
              "      <td>Clear</td>\n",
              "    </tr>\n",
              "    <tr>\n",
              "      <th>114</th>\n",
              "      <td>1/5/2012 18:00</td>\n",
              "      <td>-7.1</td>\n",
              "      <td>-14.4</td>\n",
              "      <td>56</td>\n",
              "      <td>11</td>\n",
              "      <td>25.0</td>\n",
              "      <td>100.71</td>\n",
              "      <td>Clear</td>\n",
              "    </tr>\n",
              "    <tr>\n",
              "      <th>115</th>\n",
              "      <td>1/5/2012 19:00</td>\n",
              "      <td>-9.2</td>\n",
              "      <td>-15.4</td>\n",
              "      <td>61</td>\n",
              "      <td>7</td>\n",
              "      <td>25.0</td>\n",
              "      <td>100.80</td>\n",
              "      <td>Clear</td>\n",
              "    </tr>\n",
              "    <tr>\n",
              "      <th>116</th>\n",
              "      <td>1/5/2012 20:00</td>\n",
              "      <td>-9.8</td>\n",
              "      <td>-15.7</td>\n",
              "      <td>62</td>\n",
              "      <td>9</td>\n",
              "      <td>25.0</td>\n",
              "      <td>100.83</td>\n",
              "      <td>Clear</td>\n",
              "    </tr>\n",
              "    <tr>\n",
              "      <th>117</th>\n",
              "      <td>1/5/2012 21:00</td>\n",
              "      <td>-9.0</td>\n",
              "      <td>-14.8</td>\n",
              "      <td>63</td>\n",
              "      <td>13</td>\n",
              "      <td>25.0</td>\n",
              "      <td>100.83</td>\n",
              "      <td>Clear</td>\n",
              "    </tr>\n",
              "    <tr>\n",
              "      <th>...</th>\n",
              "      <td>...</td>\n",
              "      <td>...</td>\n",
              "      <td>...</td>\n",
              "      <td>...</td>\n",
              "      <td>...</td>\n",
              "      <td>...</td>\n",
              "      <td>...</td>\n",
              "      <td>...</td>\n",
              "    </tr>\n",
              "    <tr>\n",
              "      <th>8646</th>\n",
              "      <td>12/26/2012 6:00</td>\n",
              "      <td>-13.4</td>\n",
              "      <td>-14.8</td>\n",
              "      <td>89</td>\n",
              "      <td>4</td>\n",
              "      <td>25.0</td>\n",
              "      <td>102.47</td>\n",
              "      <td>Clear</td>\n",
              "    </tr>\n",
              "    <tr>\n",
              "      <th>8698</th>\n",
              "      <td>12/28/2012 10:00</td>\n",
              "      <td>-6.1</td>\n",
              "      <td>-8.6</td>\n",
              "      <td>82</td>\n",
              "      <td>19</td>\n",
              "      <td>24.1</td>\n",
              "      <td>101.27</td>\n",
              "      <td>Clear</td>\n",
              "    </tr>\n",
              "    <tr>\n",
              "      <th>8713</th>\n",
              "      <td>12/29/2012 1:00</td>\n",
              "      <td>-11.9</td>\n",
              "      <td>-13.6</td>\n",
              "      <td>87</td>\n",
              "      <td>11</td>\n",
              "      <td>25.0</td>\n",
              "      <td>101.31</td>\n",
              "      <td>Clear</td>\n",
              "    </tr>\n",
              "    <tr>\n",
              "      <th>8714</th>\n",
              "      <td>12/29/2012 2:00</td>\n",
              "      <td>-11.8</td>\n",
              "      <td>-13.1</td>\n",
              "      <td>90</td>\n",
              "      <td>13</td>\n",
              "      <td>25.0</td>\n",
              "      <td>101.33</td>\n",
              "      <td>Clear</td>\n",
              "    </tr>\n",
              "    <tr>\n",
              "      <th>8756</th>\n",
              "      <td>12/30/2012 20:00</td>\n",
              "      <td>-13.8</td>\n",
              "      <td>-16.5</td>\n",
              "      <td>80</td>\n",
              "      <td>24</td>\n",
              "      <td>25.0</td>\n",
              "      <td>101.52</td>\n",
              "      <td>Clear</td>\n",
              "    </tr>\n",
              "  </tbody>\n",
              "</table>\n",
              "<p>1326 rows × 8 columns</p>\n",
              "</div>"
            ],
            "text/plain": [
              "             Date/Time  Temp_C  ...  Press_kPa  Weather\n",
              "67      1/3/2012 19:00   -16.9  ...     101.74    Clear\n",
              "114     1/5/2012 18:00    -7.1  ...     100.71    Clear\n",
              "115     1/5/2012 19:00    -9.2  ...     100.80    Clear\n",
              "116     1/5/2012 20:00    -9.8  ...     100.83    Clear\n",
              "117     1/5/2012 21:00    -9.0  ...     100.83    Clear\n",
              "...                ...     ...  ...        ...      ...\n",
              "8646   12/26/2012 6:00   -13.4  ...     102.47    Clear\n",
              "8698  12/28/2012 10:00    -6.1  ...     101.27    Clear\n",
              "8713   12/29/2012 1:00   -11.9  ...     101.31    Clear\n",
              "8714   12/29/2012 2:00   -11.8  ...     101.33    Clear\n",
              "8756  12/30/2012 20:00   -13.8  ...     101.52    Clear\n",
              "\n",
              "[1326 rows x 8 columns]"
            ]
          },
          "metadata": {},
          "execution_count": 40
        }
      ]
    },
    {
      "cell_type": "markdown",
      "metadata": {
        "id": "cRN1aDsV7fqB"
      },
      "source": [
        "# **Question Number 3**"
      ]
    },
    {
      "cell_type": "code",
      "metadata": {
        "colab": {
          "base_uri": "https://localhost:8080/",
          "height": 423
        },
        "id": "EzGEVMk165Od",
        "outputId": "0dc6e443-63aa-4d98-bea3-f482f5db695e"
      },
      "source": [
        "df[df['Wind Speed_km/h'] == 4]"
      ],
      "execution_count": 44,
      "outputs": [
        {
          "output_type": "execute_result",
          "data": {
            "text/html": [
              "<div>\n",
              "<style scoped>\n",
              "    .dataframe tbody tr th:only-of-type {\n",
              "        vertical-align: middle;\n",
              "    }\n",
              "\n",
              "    .dataframe tbody tr th {\n",
              "        vertical-align: top;\n",
              "    }\n",
              "\n",
              "    .dataframe thead th {\n",
              "        text-align: right;\n",
              "    }\n",
              "</style>\n",
              "<table border=\"1\" class=\"dataframe\">\n",
              "  <thead>\n",
              "    <tr style=\"text-align: right;\">\n",
              "      <th></th>\n",
              "      <th>Date/Time</th>\n",
              "      <th>Temp_C</th>\n",
              "      <th>Dew Point Temp_C</th>\n",
              "      <th>Rel Hum_%</th>\n",
              "      <th>Wind Speed_km/h</th>\n",
              "      <th>Visibility_km</th>\n",
              "      <th>Press_kPa</th>\n",
              "      <th>Weather</th>\n",
              "    </tr>\n",
              "  </thead>\n",
              "  <tbody>\n",
              "    <tr>\n",
              "      <th>0</th>\n",
              "      <td>1/1/2012 0:00</td>\n",
              "      <td>-1.8</td>\n",
              "      <td>-3.9</td>\n",
              "      <td>86</td>\n",
              "      <td>4</td>\n",
              "      <td>8.0</td>\n",
              "      <td>101.24</td>\n",
              "      <td>Fog</td>\n",
              "    </tr>\n",
              "    <tr>\n",
              "      <th>1</th>\n",
              "      <td>1/1/2012 1:00</td>\n",
              "      <td>-1.8</td>\n",
              "      <td>-3.7</td>\n",
              "      <td>87</td>\n",
              "      <td>4</td>\n",
              "      <td>8.0</td>\n",
              "      <td>101.24</td>\n",
              "      <td>Fog</td>\n",
              "    </tr>\n",
              "    <tr>\n",
              "      <th>96</th>\n",
              "      <td>1/5/2012 0:00</td>\n",
              "      <td>-8.8</td>\n",
              "      <td>-11.7</td>\n",
              "      <td>79</td>\n",
              "      <td>4</td>\n",
              "      <td>9.7</td>\n",
              "      <td>100.32</td>\n",
              "      <td>Snow</td>\n",
              "    </tr>\n",
              "    <tr>\n",
              "      <th>101</th>\n",
              "      <td>1/5/2012 5:00</td>\n",
              "      <td>-7.0</td>\n",
              "      <td>-9.5</td>\n",
              "      <td>82</td>\n",
              "      <td>4</td>\n",
              "      <td>4.0</td>\n",
              "      <td>100.19</td>\n",
              "      <td>Snow</td>\n",
              "    </tr>\n",
              "    <tr>\n",
              "      <th>146</th>\n",
              "      <td>1/7/2012 2:00</td>\n",
              "      <td>-8.1</td>\n",
              "      <td>-11.1</td>\n",
              "      <td>79</td>\n",
              "      <td>4</td>\n",
              "      <td>19.3</td>\n",
              "      <td>100.15</td>\n",
              "      <td>Cloudy</td>\n",
              "    </tr>\n",
              "    <tr>\n",
              "      <th>...</th>\n",
              "      <td>...</td>\n",
              "      <td>...</td>\n",
              "      <td>...</td>\n",
              "      <td>...</td>\n",
              "      <td>...</td>\n",
              "      <td>...</td>\n",
              "      <td>...</td>\n",
              "      <td>...</td>\n",
              "    </tr>\n",
              "    <tr>\n",
              "      <th>8768</th>\n",
              "      <td>12/31/2012 8:00</td>\n",
              "      <td>-8.6</td>\n",
              "      <td>-10.3</td>\n",
              "      <td>87</td>\n",
              "      <td>4</td>\n",
              "      <td>3.2</td>\n",
              "      <td>101.14</td>\n",
              "      <td>Snow Showers</td>\n",
              "    </tr>\n",
              "    <tr>\n",
              "      <th>8769</th>\n",
              "      <td>12/31/2012 9:00</td>\n",
              "      <td>-8.1</td>\n",
              "      <td>-9.6</td>\n",
              "      <td>89</td>\n",
              "      <td>4</td>\n",
              "      <td>2.4</td>\n",
              "      <td>101.09</td>\n",
              "      <td>Snow</td>\n",
              "    </tr>\n",
              "    <tr>\n",
              "      <th>8770</th>\n",
              "      <td>12/31/2012 10:00</td>\n",
              "      <td>-7.4</td>\n",
              "      <td>-8.9</td>\n",
              "      <td>89</td>\n",
              "      <td>4</td>\n",
              "      <td>6.4</td>\n",
              "      <td>101.05</td>\n",
              "      <td>Snow,Fog</td>\n",
              "    </tr>\n",
              "    <tr>\n",
              "      <th>8772</th>\n",
              "      <td>12/31/2012 12:00</td>\n",
              "      <td>-5.8</td>\n",
              "      <td>-7.5</td>\n",
              "      <td>88</td>\n",
              "      <td>4</td>\n",
              "      <td>12.9</td>\n",
              "      <td>100.78</td>\n",
              "      <td>Snow</td>\n",
              "    </tr>\n",
              "    <tr>\n",
              "      <th>8773</th>\n",
              "      <td>12/31/2012 13:00</td>\n",
              "      <td>-4.6</td>\n",
              "      <td>-6.6</td>\n",
              "      <td>86</td>\n",
              "      <td>4</td>\n",
              "      <td>12.9</td>\n",
              "      <td>100.63</td>\n",
              "      <td>Snow</td>\n",
              "    </tr>\n",
              "  </tbody>\n",
              "</table>\n",
              "<p>474 rows × 8 columns</p>\n",
              "</div>"
            ],
            "text/plain": [
              "             Date/Time  Temp_C  ...  Press_kPa       Weather\n",
              "0        1/1/2012 0:00    -1.8  ...     101.24           Fog\n",
              "1        1/1/2012 1:00    -1.8  ...     101.24           Fog\n",
              "96       1/5/2012 0:00    -8.8  ...     100.32          Snow\n",
              "101      1/5/2012 5:00    -7.0  ...     100.19          Snow\n",
              "146      1/7/2012 2:00    -8.1  ...     100.15        Cloudy\n",
              "...                ...     ...  ...        ...           ...\n",
              "8768   12/31/2012 8:00    -8.6  ...     101.14  Snow Showers\n",
              "8769   12/31/2012 9:00    -8.1  ...     101.09          Snow\n",
              "8770  12/31/2012 10:00    -7.4  ...     101.05      Snow,Fog\n",
              "8772  12/31/2012 12:00    -5.8  ...     100.78          Snow\n",
              "8773  12/31/2012 13:00    -4.6  ...     100.63          Snow\n",
              "\n",
              "[474 rows x 8 columns]"
            ]
          },
          "metadata": {},
          "execution_count": 44
        }
      ]
    },
    {
      "cell_type": "markdown",
      "metadata": {
        "id": "sHI5V-b09fLp"
      },
      "source": [
        "# **Question Number 4**"
      ]
    },
    {
      "cell_type": "code",
      "metadata": {
        "colab": {
          "base_uri": "https://localhost:8080/"
        },
        "id": "Ng02DVHF74Vk",
        "outputId": "08ac69b2-f24e-4666-bb8b-678aa202078e"
      },
      "source": [
        "df.isnull().sum()"
      ],
      "execution_count": 48,
      "outputs": [
        {
          "output_type": "execute_result",
          "data": {
            "text/plain": [
              "Date/Time           0\n",
              "Temp_C              0\n",
              "Dew Point Temp_C    0\n",
              "Rel Hum_%           0\n",
              "Wind Speed_km/h     0\n",
              "Visibility_km       0\n",
              "Press_kPa           0\n",
              "Weather             0\n",
              "dtype: int64"
            ]
          },
          "metadata": {},
          "execution_count": 48
        }
      ]
    },
    {
      "cell_type": "code",
      "metadata": {
        "colab": {
          "base_uri": "https://localhost:8080/"
        },
        "id": "T6PWwcit940t",
        "outputId": "653405e9-1723-4c37-b4bd-699582eaccf7"
      },
      "source": [
        "df.notnull().sum()"
      ],
      "execution_count": 49,
      "outputs": [
        {
          "output_type": "execute_result",
          "data": {
            "text/plain": [
              "Date/Time           8784\n",
              "Temp_C              8784\n",
              "Dew Point Temp_C    8784\n",
              "Rel Hum_%           8784\n",
              "Wind Speed_km/h     8784\n",
              "Visibility_km       8784\n",
              "Press_kPa           8784\n",
              "Weather             8784\n",
              "dtype: int64"
            ]
          },
          "metadata": {},
          "execution_count": 49
        }
      ]
    },
    {
      "cell_type": "markdown",
      "metadata": {
        "id": "fZTiiBcg-Aby"
      },
      "source": [
        "# **Question Number 5**"
      ]
    },
    {
      "cell_type": "code",
      "metadata": {
        "colab": {
          "base_uri": "https://localhost:8080/",
          "height": 423
        },
        "id": "2IgXj7pM9_Ip",
        "outputId": "18d8f2de-7e02-4a28-fec0-799507a70b9b"
      },
      "source": [
        "df.rename(columns = {'Weather' : 'Weather Condition'})"
      ],
      "execution_count": 50,
      "outputs": [
        {
          "output_type": "execute_result",
          "data": {
            "text/html": [
              "<div>\n",
              "<style scoped>\n",
              "    .dataframe tbody tr th:only-of-type {\n",
              "        vertical-align: middle;\n",
              "    }\n",
              "\n",
              "    .dataframe tbody tr th {\n",
              "        vertical-align: top;\n",
              "    }\n",
              "\n",
              "    .dataframe thead th {\n",
              "        text-align: right;\n",
              "    }\n",
              "</style>\n",
              "<table border=\"1\" class=\"dataframe\">\n",
              "  <thead>\n",
              "    <tr style=\"text-align: right;\">\n",
              "      <th></th>\n",
              "      <th>Date/Time</th>\n",
              "      <th>Temp_C</th>\n",
              "      <th>Dew Point Temp_C</th>\n",
              "      <th>Rel Hum_%</th>\n",
              "      <th>Wind Speed_km/h</th>\n",
              "      <th>Visibility_km</th>\n",
              "      <th>Press_kPa</th>\n",
              "      <th>Weather Condition</th>\n",
              "    </tr>\n",
              "  </thead>\n",
              "  <tbody>\n",
              "    <tr>\n",
              "      <th>0</th>\n",
              "      <td>1/1/2012 0:00</td>\n",
              "      <td>-1.8</td>\n",
              "      <td>-3.9</td>\n",
              "      <td>86</td>\n",
              "      <td>4</td>\n",
              "      <td>8.0</td>\n",
              "      <td>101.24</td>\n",
              "      <td>Fog</td>\n",
              "    </tr>\n",
              "    <tr>\n",
              "      <th>1</th>\n",
              "      <td>1/1/2012 1:00</td>\n",
              "      <td>-1.8</td>\n",
              "      <td>-3.7</td>\n",
              "      <td>87</td>\n",
              "      <td>4</td>\n",
              "      <td>8.0</td>\n",
              "      <td>101.24</td>\n",
              "      <td>Fog</td>\n",
              "    </tr>\n",
              "    <tr>\n",
              "      <th>2</th>\n",
              "      <td>1/1/2012 2:00</td>\n",
              "      <td>-1.8</td>\n",
              "      <td>-3.4</td>\n",
              "      <td>89</td>\n",
              "      <td>7</td>\n",
              "      <td>4.0</td>\n",
              "      <td>101.26</td>\n",
              "      <td>Freezing Drizzle,Fog</td>\n",
              "    </tr>\n",
              "    <tr>\n",
              "      <th>3</th>\n",
              "      <td>1/1/2012 3:00</td>\n",
              "      <td>-1.5</td>\n",
              "      <td>-3.2</td>\n",
              "      <td>88</td>\n",
              "      <td>6</td>\n",
              "      <td>4.0</td>\n",
              "      <td>101.27</td>\n",
              "      <td>Freezing Drizzle,Fog</td>\n",
              "    </tr>\n",
              "    <tr>\n",
              "      <th>4</th>\n",
              "      <td>1/1/2012 4:00</td>\n",
              "      <td>-1.5</td>\n",
              "      <td>-3.3</td>\n",
              "      <td>88</td>\n",
              "      <td>7</td>\n",
              "      <td>4.8</td>\n",
              "      <td>101.23</td>\n",
              "      <td>Fog</td>\n",
              "    </tr>\n",
              "    <tr>\n",
              "      <th>...</th>\n",
              "      <td>...</td>\n",
              "      <td>...</td>\n",
              "      <td>...</td>\n",
              "      <td>...</td>\n",
              "      <td>...</td>\n",
              "      <td>...</td>\n",
              "      <td>...</td>\n",
              "      <td>...</td>\n",
              "    </tr>\n",
              "    <tr>\n",
              "      <th>8779</th>\n",
              "      <td>12/31/2012 19:00</td>\n",
              "      <td>0.1</td>\n",
              "      <td>-2.7</td>\n",
              "      <td>81</td>\n",
              "      <td>30</td>\n",
              "      <td>9.7</td>\n",
              "      <td>100.13</td>\n",
              "      <td>Snow</td>\n",
              "    </tr>\n",
              "    <tr>\n",
              "      <th>8780</th>\n",
              "      <td>12/31/2012 20:00</td>\n",
              "      <td>0.2</td>\n",
              "      <td>-2.4</td>\n",
              "      <td>83</td>\n",
              "      <td>24</td>\n",
              "      <td>9.7</td>\n",
              "      <td>100.03</td>\n",
              "      <td>Snow</td>\n",
              "    </tr>\n",
              "    <tr>\n",
              "      <th>8781</th>\n",
              "      <td>12/31/2012 21:00</td>\n",
              "      <td>-0.5</td>\n",
              "      <td>-1.5</td>\n",
              "      <td>93</td>\n",
              "      <td>28</td>\n",
              "      <td>4.8</td>\n",
              "      <td>99.95</td>\n",
              "      <td>Snow</td>\n",
              "    </tr>\n",
              "    <tr>\n",
              "      <th>8782</th>\n",
              "      <td>12/31/2012 22:00</td>\n",
              "      <td>-0.2</td>\n",
              "      <td>-1.8</td>\n",
              "      <td>89</td>\n",
              "      <td>28</td>\n",
              "      <td>9.7</td>\n",
              "      <td>99.91</td>\n",
              "      <td>Snow</td>\n",
              "    </tr>\n",
              "    <tr>\n",
              "      <th>8783</th>\n",
              "      <td>12/31/2012 23:00</td>\n",
              "      <td>0.0</td>\n",
              "      <td>-2.1</td>\n",
              "      <td>86</td>\n",
              "      <td>30</td>\n",
              "      <td>11.3</td>\n",
              "      <td>99.89</td>\n",
              "      <td>Snow</td>\n",
              "    </tr>\n",
              "  </tbody>\n",
              "</table>\n",
              "<p>8784 rows × 8 columns</p>\n",
              "</div>"
            ],
            "text/plain": [
              "             Date/Time  Temp_C  ...  Press_kPa     Weather Condition\n",
              "0        1/1/2012 0:00    -1.8  ...     101.24                   Fog\n",
              "1        1/1/2012 1:00    -1.8  ...     101.24                   Fog\n",
              "2        1/1/2012 2:00    -1.8  ...     101.26  Freezing Drizzle,Fog\n",
              "3        1/1/2012 3:00    -1.5  ...     101.27  Freezing Drizzle,Fog\n",
              "4        1/1/2012 4:00    -1.5  ...     101.23                   Fog\n",
              "...                ...     ...  ...        ...                   ...\n",
              "8779  12/31/2012 19:00     0.1  ...     100.13                  Snow\n",
              "8780  12/31/2012 20:00     0.2  ...     100.03                  Snow\n",
              "8781  12/31/2012 21:00    -0.5  ...      99.95                  Snow\n",
              "8782  12/31/2012 22:00    -0.2  ...      99.91                  Snow\n",
              "8783  12/31/2012 23:00     0.0  ...      99.89                  Snow\n",
              "\n",
              "[8784 rows x 8 columns]"
            ]
          },
          "metadata": {},
          "execution_count": 50
        }
      ]
    },
    {
      "cell_type": "code",
      "metadata": {
        "id": "uEfFeYtA-cbq"
      },
      "source": [
        ""
      ],
      "execution_count": null,
      "outputs": []
    }
  ]
}